{
 "cells": [
  {
   "cell_type": "code",
   "execution_count": null,
   "metadata": {},
   "outputs": [],
   "source": []
  },
  {
   "cell_type": "code",
   "execution_count": 6,
   "metadata": {},
   "outputs": [],
   "source": [
    "%load_ext autoreload"
   ]
  },
  {
   "cell_type": "markdown",
   "metadata": {
    "vscode": {
     "languageId": "plaintext"
    }
   },
   "source": [
    "# GITHUB"
   ]
  },
  {
   "cell_type": "markdown",
   "metadata": {
    "vscode": {
     "languageId": "plaintext"
    }
   },
   "source": [
    "https://github.com/Vladimirjon/MetodosNumericos_PasquelJohann/tree/main/Tarea11"
   ]
  },
  {
   "cell_type": "markdown",
   "metadata": {
    "vscode": {
     "languageId": "plaintext"
    }
   },
   "source": [
    "# CONJUNTO DE EJERCICIOS "
   ]
  },
  {
   "cell_type": "markdown",
   "metadata": {
    "vscode": {
     "languageId": "plaintext"
    }
   },
   "source": [
    "## **1.** Encuentre las primeras dos iteraciones del método de Jacobi para los siguientes sistemas lineales, por medio de $x^{(0)}$ = 0:"
   ]
  },
  {
   "cell_type": "markdown",
   "metadata": {},
   "source": [
    "**a.**  \n",
    "$$\n",
    "\\begin{aligned}\n",
    "3x_1 - x_2 + x_3 &= 1, \\\\\n",
    "3x_1 + 6x_2 + 2x_3 &= 0, \\\\\n",
    "3x_1 + 3x_2 + 7x_3 &= 4.\n",
    "\\end{aligned}\n",
    "$$"
   ]
  },
  {
   "cell_type": "code",
   "execution_count": 15,
   "metadata": {},
   "outputs": [
    {
     "name": "stdout",
     "output_type": "stream",
     "text": [
      "[02-04 02:13:46][INFO] i= 0 x: [[0. 0. 0.]]\n",
      "[02-04 02:13:46][INFO] i= 1 x: [[0.33333333 0.         0.57142857]]\n",
      "Solution using Gauss-Jacobi method: [[0.33333333]\n",
      " [0.        ]\n",
      " [0.57142857]]\n"
     ]
    }
   ],
   "source": [
    "import numpy as np\n",
    "from src.iterative_methods import gauss_jacobi\n",
    "\n",
    "A = np.array([[3, -1, 1],\n",
    "              [3, 6, 2],\n",
    "              [3, 3, 7]], dtype=float)\n",
    "\n",
    "b = np.array([1, 0, 4], dtype=float)\n",
    "\n",
    "x0 = np.zeros((3, 1))  # Initial guess\n",
    "tol = 0.001 # Tolerance\n",
    "max_iter = 2 # Maximum number of iterations\n",
    "\n",
    "# Solve using Gauss-Jacobi method\n",
    "x_jacobi, tray_jacobi = gauss_jacobi(A=A, b=b, x0=x0, tol=tol, max_iter=max_iter)\n",
    "print(\"Solution using Gauss-Jacobi method:\", x_jacobi)\n"
   ]
  },
  {
   "cell_type": "markdown",
   "metadata": {},
   "source": [
    "**b.**  \n",
    "$$\n",
    "\\begin{aligned}\n",
    "10x_1 - x_2 &= 9, \\\\\n",
    "-x_1 + 10x_2 - 2x_3 &= 7, \\\\\n",
    "-2x_2 + 10x_3 &= 6.\n",
    "\\end{aligned}\n",
    "$$"
   ]
  },
  {
   "cell_type": "code",
   "execution_count": 16,
   "metadata": {},
   "outputs": [
    {
     "name": "stdout",
     "output_type": "stream",
     "text": [
      "[02-04 02:14:07][INFO] i= 0 x: [[0. 0. 0.]]\n",
      "[02-04 02:14:07][INFO] i= 1 x: [[0.9 0.7 0.6]]\n",
      "Solution using Gauss-Jacobi method: [[0.9]\n",
      " [0.7]\n",
      " [0.6]]\n"
     ]
    }
   ],
   "source": [
    "%autoreload 2\n",
    "import numpy as np\n",
    "from src.iterative_methods import gauss_jacobi\n",
    "\n",
    "A = np.array([[10, -1, 0],\n",
    "              [-1, 10, -2],\n",
    "              [0, -2, 10]], dtype=float)\n",
    "\n",
    "b = np.array([9, 7, 6], dtype=float)\n",
    "\n",
    "x0 = np.zeros((3, 1))  # Initial guess\n",
    "tol = 0.001 # Tolerance\n",
    "max_iter = 2 # Maximum number of iterations\n",
    "\n",
    "# Solve using Gauss-Jacobi method\n",
    "x_jacobi, tray_jacobi = gauss_jacobi(A=A, b=b, x0=x0, tol=tol, max_iter=max_iter)\n",
    "print(\"Solution using Gauss-Jacobi method:\", x_jacobi)"
   ]
  },
  {
   "cell_type": "markdown",
   "metadata": {},
   "source": [
    "**c.**  \n",
    "$$\n",
    "\\begin{aligned}\n",
    "10x_1 + 5x_2 &= 6, \\\\\n",
    "5x_1 + 10x_2 - 4x_3 &= 25, \\\\\n",
    "-4x_2 + 8x_3 - x_4 &= -11, \\\\\n",
    "-x_3 + 5x_4 &= -11.\n",
    "\\end{aligned}\n",
    "$$"
   ]
  },
  {
   "cell_type": "code",
   "execution_count": 17,
   "metadata": {},
   "outputs": [
    {
     "name": "stdout",
     "output_type": "stream",
     "text": [
      "[02-04 02:14:29][INFO] i= 0 x: [[0. 0. 0. 0.]]\n",
      "[02-04 02:14:29][INFO] i= 1 x: [[ 0.6    2.5   -1.375 -2.2  ]]\n",
      "Solution using Gauss-Jacobi method: [[ 0.6  ]\n",
      " [ 2.5  ]\n",
      " [-1.375]\n",
      " [-2.2  ]]\n"
     ]
    }
   ],
   "source": [
    "%autoreload 2\n",
    "import numpy as np\n",
    "from src.iterative_methods import gauss_jacobi\n",
    "\n",
    "A = np.array([[10, 5, 0, 0],\n",
    "              [5, 10, -4, 0],\n",
    "              [0, -4, 8, -1],\n",
    "              [0, 0, -1, 5]], dtype=float)\n",
    "\n",
    "b = np.array([6, 25, -11, -11], dtype=float)\n",
    "\n",
    "x0 = np.zeros((4, 1))  # Initial guess\n",
    "tol = 0.001  # Tolerance\n",
    "max_iter = 2  # Maximum number of iterations\n",
    "\n",
    "# Solve using Gauss-Jacobi method\n",
    "x_jacobi, tray_jacobi = gauss_jacobi(A=A, b=b, x0=x0, tol=tol, max_iter=max_iter)\n",
    "print(\"Solution using Gauss-Jacobi method:\", x_jacobi)"
   ]
  },
  {
   "cell_type": "markdown",
   "metadata": {},
   "source": [
    "**d.**  \n",
    "$$\n",
    "\\begin{aligned}\n",
    "4x_1 + x_2 + x_3 + x_5 &= 6, \\\\\n",
    "-x_1 - 3x_2 + x_3 + x_4 &= 6, \\\\\n",
    "2x_1 + x_2 + 5x_3 - x_4 - x_5 &= 6, \\\\\n",
    "-x_1 - x_2 - x_3 + 4x_4 &= 6, \\\\\n",
    "2x_2 - x_3 + x_4 + 4x_5 &= 6.\n",
    "\\end{aligned}\n",
    "$$"
   ]
  },
  {
   "cell_type": "code",
   "execution_count": 18,
   "metadata": {},
   "outputs": [
    {
     "name": "stdout",
     "output_type": "stream",
     "text": [
      "[02-04 02:14:38][INFO] i= 0 x: [[0. 0. 0. 0. 0.]]\n",
      "[02-04 02:14:38][INFO] i= 1 x: [[ 1.5 -2.   1.2  1.5  1.5]]\n",
      "Solution using Gauss-Jacobi method: [[ 1.5]\n",
      " [-2. ]\n",
      " [ 1.2]\n",
      " [ 1.5]\n",
      " [ 1.5]]\n"
     ]
    }
   ],
   "source": [
    "%autoreload 2\n",
    "import numpy as np\n",
    "from src.iterative_methods import gauss_jacobi\n",
    "\n",
    "A = np.array([[4, 1, 1, 0, 1],\n",
    "              [-1, -3, 1, 1, 0],\n",
    "              [2, 1, 5, -1, -1],\n",
    "              [-1, -1, -1, 4, 0],\n",
    "              [0, 2, -1, 1, 4]], dtype=float)\n",
    "\n",
    "b = np.array([6, 6, 6, 6, 6], dtype=float)\n",
    "\n",
    "x0 = np.zeros((5, 1))  # Initial guess\n",
    "tol = 0.001  # Tolerance\n",
    "max_iter = 2  # Maximum number of iterations\n",
    "\n",
    "# Solve using Gauss-Jacobi method\n",
    "x_jacobi, tray_jacobi = gauss_jacobi(A=A, b=b, x0=x0, tol=tol, max_iter=max_iter)\n",
    "print(\"Solution using Gauss-Jacobi method:\", x_jacobi)"
   ]
  },
  {
   "cell_type": "markdown",
   "metadata": {},
   "source": [
    "## **2.** Repita el ejercicio 1 usando el método de Gauss-Siedel."
   ]
  },
  {
   "cell_type": "markdown",
   "metadata": {},
   "source": [
    "**a.**  \n",
    "$$\n",
    "\\begin{aligned}\n",
    "3x_1 - x_2 + x_3 &= 1, \\\\\n",
    "3x_1 + 6x_2 + 2x_3 &= 0, \\\\\n",
    "3x_1 + 3x_2 + 7x_3 &= 4.\n",
    "\\end{aligned}\n",
    "$$"
   ]
  },
  {
   "cell_type": "code",
   "execution_count": null,
   "metadata": {},
   "outputs": [],
   "source": []
  },
  {
   "cell_type": "markdown",
   "metadata": {},
   "source": [
    "**b.**  \n",
    "$$\n",
    "\\begin{aligned}\n",
    "10x_1 - x_2 &= 9, \\\\\n",
    "-x_1 + 10x_2 - 2x_3 &= 7, \\\\\n",
    "-2x_2 + 10x_3 &= 6.\n",
    "\\end{aligned}\n",
    "$$"
   ]
  },
  {
   "cell_type": "code",
   "execution_count": null,
   "metadata": {},
   "outputs": [],
   "source": []
  },
  {
   "cell_type": "markdown",
   "metadata": {},
   "source": [
    "**c.**  \n",
    "$$\n",
    "\\begin{aligned}\n",
    "10x_1 + 5x_2 &= 6, \\\\\n",
    "5x_1 + 10x_2 - 4x_3 &= 25, \\\\\n",
    "-4x_2 + 8x_3 - x_4 &= -11, \\\\\n",
    "-x_3 + 5x_4 &= -11.\n",
    "\\end{aligned}\n",
    "$$"
   ]
  },
  {
   "cell_type": "code",
   "execution_count": null,
   "metadata": {},
   "outputs": [],
   "source": []
  },
  {
   "cell_type": "markdown",
   "metadata": {},
   "source": [
    "**d.**  \n",
    "$$\n",
    "\\begin{aligned}\n",
    "4x_1 + x_2 + x_3 + x_5 &= 6, \\\\\n",
    "-x_1 - 3x_2 + x_3 + x_4 &= 6, \\\\\n",
    "2x_1 + x_2 + 5x_3 - x_4 - x_5 &= 6, \\\\\n",
    "-x_1 - x_2 - x_3 + 4x_4 &= 6, \\\\\n",
    "2x_2 - x_3 + x_4 + 4x_5 &= 6.\n",
    "\\end{aligned}\n",
    "$$"
   ]
  },
  {
   "cell_type": "code",
   "execution_count": null,
   "metadata": {},
   "outputs": [],
   "source": []
  },
  {
   "cell_type": "markdown",
   "metadata": {},
   "source": [
    "## **3.** Utilice el método de Jacobi para resolver los sistemas lineales en el ejercicio 1, con $TOL = 10_{-3}$"
   ]
  },
  {
   "cell_type": "markdown",
   "metadata": {},
   "source": [
    "**a.**  \n",
    "$$\n",
    "\\begin{aligned}\n",
    "3x_1 - x_2 + x_3 &= 1, \\\\\n",
    "3x_1 + 6x_2 + 2x_3 &= 0, \\\\\n",
    "3x_1 + 3x_2 + 7x_3 &= 4.\n",
    "\\end{aligned}\n",
    "$$"
   ]
  },
  {
   "cell_type": "code",
   "execution_count": null,
   "metadata": {},
   "outputs": [],
   "source": []
  },
  {
   "cell_type": "markdown",
   "metadata": {},
   "source": [
    "**b.**  \n",
    "$$\n",
    "\\begin{aligned}\n",
    "10x_1 - x_2 &= 9, \\\\\n",
    "-x_1 + 10x_2 - 2x_3 &= 7, \\\\\n",
    "-2x_2 + 10x_3 &= 6.\n",
    "\\end{aligned}\n",
    "$$"
   ]
  },
  {
   "cell_type": "code",
   "execution_count": null,
   "metadata": {},
   "outputs": [],
   "source": []
  },
  {
   "cell_type": "markdown",
   "metadata": {},
   "source": [
    "**c.**  \n",
    "$$\n",
    "\\begin{aligned}\n",
    "10x_1 + 5x_2 &= 6, \\\\\n",
    "5x_1 + 10x_2 - 4x_3 &= 25, \\\\\n",
    "-4x_2 + 8x_3 - x_4 &= -11, \\\\\n",
    "-x_3 + 5x_4 &= -11.\n",
    "\\end{aligned}\n",
    "$$"
   ]
  },
  {
   "cell_type": "code",
   "execution_count": null,
   "metadata": {},
   "outputs": [],
   "source": []
  },
  {
   "cell_type": "markdown",
   "metadata": {},
   "source": [
    "**d.**  \n",
    "$$\n",
    "\\begin{aligned}\n",
    "4x_1 + x_2 + x_3 + x_5 &= 6, \\\\\n",
    "-x_1 - 3x_2 + x_3 + x_4 &= 6, \\\\\n",
    "2x_1 + x_2 + 5x_3 - x_4 - x_5 &= 6, \\\\\n",
    "-x_1 - x_2 - x_3 + 4x_4 &= 6, \\\\\n",
    "2x_2 - x_3 + x_4 + 4x_5 &= 6.\n",
    "\\end{aligned}\n",
    "$$"
   ]
  },
  {
   "cell_type": "code",
   "execution_count": null,
   "metadata": {},
   "outputs": [],
   "source": []
  },
  {
   "cell_type": "markdown",
   "metadata": {},
   "source": [
    "## **4.** Utilice el método de Gauss-Siedel para resolver los sistemas lineales en el ejercicio 1, con $TOL = 10_{-3}$.\n"
   ]
  },
  {
   "cell_type": "markdown",
   "metadata": {},
   "source": [
    "**a.**  \n",
    "$$\n",
    "\\begin{aligned}\n",
    "3x_1 - x_2 + x_3 &= 1, \\\\\n",
    "3x_1 + 6x_2 + 2x_3 &= 0, \\\\\n",
    "3x_1 + 3x_2 + 7x_3 &= 4.\n",
    "\\end{aligned}\n",
    "$$"
   ]
  },
  {
   "cell_type": "code",
   "execution_count": null,
   "metadata": {},
   "outputs": [],
   "source": []
  },
  {
   "cell_type": "markdown",
   "metadata": {},
   "source": [
    "**b.**  \n",
    "$$\n",
    "\\begin{aligned}\n",
    "10x_1 - x_2 &= 9, \\\\\n",
    "-x_1 + 10x_2 - 2x_3 &= 7, \\\\\n",
    "-2x_2 + 10x_3 &= 6.\n",
    "\\end{aligned}\n",
    "$$"
   ]
  },
  {
   "cell_type": "code",
   "execution_count": null,
   "metadata": {},
   "outputs": [],
   "source": []
  },
  {
   "cell_type": "markdown",
   "metadata": {},
   "source": [
    "**c.**  \n",
    "$$\n",
    "\\begin{aligned}\n",
    "10x_1 + 5x_2 &= 6, \\\\\n",
    "5x_1 + 10x_2 - 4x_3 &= 25, \\\\\n",
    "-4x_2 + 8x_3 - x_4 &= -11, \\\\\n",
    "-x_3 + 5x_4 &= -11.\n",
    "\\end{aligned}\n",
    "$$"
   ]
  },
  {
   "cell_type": "code",
   "execution_count": null,
   "metadata": {},
   "outputs": [],
   "source": []
  },
  {
   "cell_type": "markdown",
   "metadata": {},
   "source": [
    "**d.**  \n",
    "$$\n",
    "\\begin{aligned}\n",
    "4x_1 + x_2 + x_3 + x_5 &= 6, \\\\\n",
    "-x_1 - 3x_2 + x_3 + x_4 &= 6, \\\\\n",
    "2x_1 + x_2 + 5x_3 - x_4 - x_5 &= 6, \\\\\n",
    "-x_1 - x_2 - x_3 + 4x_4 &= 6, \\\\\n",
    "2x_2 - x_3 + x_4 + 4x_5 &= 6.\n",
    "\\end{aligned}\n",
    "$$"
   ]
  },
  {
   "cell_type": "code",
   "execution_count": null,
   "metadata": {},
   "outputs": [],
   "source": []
  },
  {
   "cell_type": "markdown",
   "metadata": {},
   "source": [
    "## **5.** El sistema lineal"
   ]
  }
 ],
 "metadata": {
  "kernelspec": {
   "display_name": "Python 3",
   "language": "python",
   "name": "python3"
  },
  "language_info": {
   "codemirror_mode": {
    "name": "ipython",
    "version": 3
   },
   "file_extension": ".py",
   "mimetype": "text/x-python",
   "name": "python",
   "nbconvert_exporter": "python",
   "pygments_lexer": "ipython3",
   "version": "3.13.0"
  }
 },
 "nbformat": 4,
 "nbformat_minor": 2
}
