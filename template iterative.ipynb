{
 "cells": [
  {
   "cell_type": "code",
   "execution_count": 9,
   "metadata": {},
   "outputs": [
    {
     "name": "stdout",
     "output_type": "stream",
     "text": [
      "The autoreload extension is already loaded. To reload it, use:\n",
      "  %reload_ext autoreload\n"
     ]
    }
   ],
   "source": [
    "%load_ext autoreload"
   ]
  },
  {
   "cell_type": "code",
   "execution_count": 28,
   "metadata": {},
   "outputs": [
    {
     "name": "stdout",
     "output_type": "stream",
     "text": [
      "[01-25 08:31:34][INFO] i= 0 x: [[0. 0.]]\n",
      "[01-25 08:31:34][INFO] i= 1 x: [[3.66666667 1.6       ]]\n",
      "[01-25 08:31:34][INFO] i= 2 x: [[2.6        0.86666667]]\n",
      "[01-25 08:31:34][INFO] i= 3 x: [[3.08888889 1.08      ]]\n",
      "[01-25 08:31:34][INFO] i= 4 x: [[2.94666667 0.98222222]]\n",
      "[01-25 08:31:34][INFO] i= 5 x: [[3.01185185 1.01066667]]\n",
      "[01-25 08:31:34][INFO] i= 6 x: [[2.99288889 0.99762963]]\n",
      "[01-25 08:31:34][INFO] i= 7 x: [[3.00158025 1.00142222]]\n",
      "[01-25 08:31:34][INFO] i= 8 x: [[2.99905185 0.99968395]]\n",
      "[01-25 08:31:34][INFO] i= 9 x: [[3.0002107  1.00018963]]\n",
      "Solution using Gauss-Jacobi method: [[2.99987358]\n",
      " [0.99995786]]\n"
     ]
    }
   ],
   "source": [
    "%autoreload 2\n",
    "from src.iterative_methods import gauss_jacobi\n",
    "import numpy as np\n",
    "import matplotlib.pyplot as plt\n",
    "\n",
    "A = np.array([[3, 2],\n",
    "              [2, 10]], dtype=float)\n",
    "\n",
    "b = np.array([11, 16], dtype=float)\n",
    "\n",
    "x0 = np.zeros((2, 1))  # Initial guess\n",
    "tol = 0.001  # Tolerance\n",
    "max_iter = 100  # Maximum number of iterations\n",
    "\n",
    "# Solve using Gauss-Jacobi method\n",
    "x_jacobi, tray_jacobi = gauss_jacobi(A=A, b=b, x0=x0, tol=tol, max_iter=max_iter)\n",
    "print(\"Solution using Gauss-Jacobi method:\", x_jacobi)\n"
   ]
  },
  {
   "cell_type": "code",
   "execution_count": 27,
   "metadata": {},
   "outputs": [
    {
     "name": "stdout",
     "output_type": "stream",
     "text": [
      "[01-25 08:31:27][INFO] i= 0 x: [[0. 0.]]\n",
      "[01-25 08:31:27][INFO] i= 1 x: [[3.66666667 0.86666667]]\n",
      "[01-25 08:31:27][INFO] i= 2 x: [[3.08888889 0.98222222]]\n",
      "[01-25 08:31:27][INFO] i= 3 x: [[3.01185185 0.99762963]]\n",
      "[01-25 08:31:27][INFO] i= 4 x: [[3.00158025 0.99968395]]\n",
      "[01-25 08:31:27][INFO] i= 5 x: [[3.0002107  0.99995786]]\n",
      "Solution using Gauss-Seidel method: [[3.00002809]\n",
      " [0.99999438]]\n"
     ]
    }
   ],
   "source": [
    "%autoreload 2\n",
    "from src.iterative_methods import gauss_seidel\n",
    "import numpy as np\n",
    "import matplotlib.pyplot as plt\n",
    "\n",
    "A = np.array([[3, 2],\n",
    "              [2, 10]], dtype=float)\n",
    "\n",
    "b = np.array([11, 16], dtype=float)\n",
    "\n",
    "x0 = np.zeros((2, 1))  # Initial guess\n",
    "tol = 0.001  # Tolerance\n",
    "max_iter = 100  # Maximum number of iterations\n",
    "\n",
    "# Solve using Gauss-Seidel method\n",
    "x_seidel, tray_seidel = gauss_seidel(A=A, b=b, x0=x0, tol=tol, max_iter=max_iter)\n",
    "print(\"Solution using Gauss-Seidel method:\", x_seidel)\n"
   ]
  }
 ],
 "metadata": {
  "kernelspec": {
   "display_name": "Python 3",
   "language": "python",
   "name": "python3"
  },
  "language_info": {
   "codemirror_mode": {
    "name": "ipython",
    "version": 3
   },
   "file_extension": ".py",
   "mimetype": "text/x-python",
   "name": "python",
   "nbconvert_exporter": "python",
   "pygments_lexer": "ipython3",
   "version": "3.13.0"
  }
 },
 "nbformat": 4,
 "nbformat_minor": 2
}
